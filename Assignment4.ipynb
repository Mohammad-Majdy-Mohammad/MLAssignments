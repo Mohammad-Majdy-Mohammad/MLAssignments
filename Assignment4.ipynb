{
  "nbformat": 4,
  "nbformat_minor": 0,
  "metadata": {
    "colab": {
      "provenance": [],
      "authorship_tag": "ABX9TyPzI81gBn4d9IlgOxf8pAyV",
      "include_colab_link": true
    },
    "kernelspec": {
      "name": "python3",
      "display_name": "Python 3"
    },
    "language_info": {
      "name": "python"
    }
  },
  "cells": [
    {
      "cell_type": "markdown",
      "metadata": {
        "id": "view-in-github",
        "colab_type": "text"
      },
      "source": [
        "<a href=\"https://colab.research.google.com/github/Mohammad-Majdy-Mohammad/MLAssignments/blob/main/Assignment4.ipynb\" target=\"_parent\"><img src=\"https://colab.research.google.com/assets/colab-badge.svg\" alt=\"Open In Colab\"/></a>"
      ]
    },
    {
      "cell_type": "markdown",
      "source": [
        "### Create a simple class names calculator\n",
        "\n",
        "*   ### Create a constructor that prints Welcome message\n",
        "*   ###  Add 2 methods to the class sum & mull\n",
        "*   ###  The sum method return the sum of 2 arguments x and y\n",
        "*   ### The mull method return the multiplication of the arguments x and y\n",
        "*   ###  Take an object from the class\n",
        "\n"
      ],
      "metadata": {
        "id": "EcbnESgqjiE5"
      }
    },
    {
      "cell_type": "code",
      "source": [
        "class Calculator() :\n",
        "    def __init__(self) :\n",
        "      print(\"Welcome ^-^\")\n",
        "\n",
        "    def sum(self, x, y):\n",
        "      return x + y\n",
        "\n",
        "    def mul(self, x, y):\n",
        "      return x * y\n",
        "\n",
        "calc = Calculator()\n"
      ],
      "metadata": {
        "colab": {
          "base_uri": "https://localhost:8080/"
        },
        "id": "zrwi9FdWjjkc",
        "outputId": "712c45c8-789f-4bca-8d5c-157898eddd37"
      },
      "execution_count": 20,
      "outputs": [
        {
          "output_type": "stream",
          "name": "stdout",
          "text": [
            "Welcome ^-^\n"
          ]
        }
      ]
    },
    {
      "cell_type": "markdown",
      "source": [
        "### Explain in few words why we call the self in methods"
      ],
      "metadata": {
        "id": "UXjrEu5Jlb0i"
      }
    },
    {
      "cell_type": "markdown",
      "source": [
        "\n",
        "\n",
        "*   it refers to the instance of the class that is currently being used, the object is passed as the first argument using the self keyword\n",
        "\n"
      ],
      "metadata": {
        "id": "BIgfvD_llc_2"
      }
    },
    {
      "cell_type": "markdown",
      "source": [
        "  ### What we mean with OOP 4 Pillars"
      ],
      "metadata": {
        "id": "-oA4Za42mIGt"
      }
    },
    {
      "cell_type": "markdown",
      "source": [
        "\n",
        "\n",
        "*   inheritance\n",
        "*   polymorephism\n",
        "*   encapsulation\n",
        "*   abstraction\n",
        "\n"
      ],
      "metadata": {
        "id": "6TwgySSlmSJ_"
      }
    },
    {
      "cell_type": "markdown",
      "source": [
        "###  Why we use OOP in our code"
      ],
      "metadata": {
        "id": "fneOT89LmlTy"
      }
    },
    {
      "cell_type": "markdown",
      "source": [
        "\n",
        "\n",
        "*   because everything around us can be classified as an object that has charactaristics and do some actions\n",
        "\n"
      ],
      "metadata": {
        "id": "O5Os_z6hmo9P"
      }
    },
    {
      "cell_type": "markdown",
      "source": [
        "### Create a new class names SciCalc with 3 methods , sum , mull , power all of them takes 2 argument x, y"
      ],
      "metadata": {
        "id": "4nLJZoaSm_fi"
      }
    },
    {
      "cell_type": "code",
      "source": [
        "class SciCalc(Calculator):\n",
        "  def poewr(self, a, b):\n",
        "    return a**b"
      ],
      "metadata": {
        "id": "6hm6a8bNnGNB"
      },
      "execution_count": 36,
      "outputs": []
    },
    {
      "cell_type": "code",
      "source": [
        "  si_calc = SciCalc()\n",
        "  print(si_calc.poewr(2, 5))\n"
      ],
      "metadata": {
        "colab": {
          "base_uri": "https://localhost:8080/"
        },
        "id": "DF_gS7hGov1q",
        "outputId": "3120e2eb-bf07-4af9-d24b-08583bb11788"
      },
      "execution_count": 37,
      "outputs": [
        {
          "output_type": "stream",
          "name": "stdout",
          "text": [
            "Welcome ^-^\n",
            "32\n"
          ]
        }
      ]
    },
    {
      "cell_type": "markdown",
      "source": [
        "### Explain in few words what happened after inheriting"
      ],
      "metadata": {
        "id": "ZDvkgmCfqPKf"
      }
    },
    {
      "cell_type": "markdown",
      "source": [
        "\n",
        "\n",
        "*   after inheriting the SciCalc class is now having all methods that exists in the parent class Calculator\n",
        "\n"
      ],
      "metadata": {
        "id": "HEaKK2y_qP7t"
      }
    },
    {
      "cell_type": "markdown",
      "source": [],
      "metadata": {
        "id": "a1j3wxpSqfDl"
      }
    }
  ]
}