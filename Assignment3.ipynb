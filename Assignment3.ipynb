{
  "nbformat": 4,
  "nbformat_minor": 0,
  "metadata": {
    "colab": {
      "provenance": [],
      "authorship_tag": "ABX9TyNX0Vr7NHRLRtVj0qjZA8DX",
      "include_colab_link": true
    },
    "kernelspec": {
      "name": "python3",
      "display_name": "Python 3"
    },
    "language_info": {
      "name": "python"
    }
  },
  "cells": [
    {
      "cell_type": "markdown",
      "metadata": {
        "id": "view-in-github",
        "colab_type": "text"
      },
      "source": [
        "<a href=\"https://colab.research.google.com/github/Mohammad-Majdy-Mohammad/MLAssignments/blob/main/Assignment3.ipynb\" target=\"_parent\"><img src=\"https://colab.research.google.com/assets/colab-badge.svg\" alt=\"Open In Colab\"/></a>"
      ]
    },
    {
      "cell_type": "markdown",
      "source": [
        "### Sort three integers :using conditional statements\n"
      ],
      "metadata": {
        "id": "51tF4gxjLZ5j"
      }
    },
    {
      "cell_type": "code",
      "source": [
        "a = list(map(int, input().split(' ')))\n",
        "for i in range(len(a)):\n",
        "    for j in range(i + 1, len(a)):\n",
        "        if a[i] > a[j]:\n",
        "            a[i], a[j] = a[j], a[i]\n",
        "\n",
        "print(a)"
      ],
      "metadata": {
        "colab": {
          "base_uri": "https://localhost:8080/"
        },
        "id": "XwDOPzu6LdAq",
        "outputId": "85a3b37c-06b0-43d7-96f4-d8e7de83f786"
      },
      "execution_count": 1,
      "outputs": [
        {
          "output_type": "stream",
          "name": "stdout",
          "text": [
            "35 -1 6\n",
            "[-1, 6, 35]\n"
          ]
        }
      ]
    },
    {
      "cell_type": "markdown",
      "source": [
        "#### Write a Python function that takes a sequence of numbers and determines whether all the numbers are different from each other.\n"
      ],
      "metadata": {
        "id": "jt7Y2YkERz9G"
      }
    },
    {
      "cell_type": "code",
      "source": [
        "def are_different(*nums):\n",
        "  num_set = set(nums)\n",
        "  return len(nums) == len(num_set)\n",
        "\n",
        "print(are_different(1, 2, 3, 3, 3, 4, 6, 1))"
      ],
      "metadata": {
        "colab": {
          "base_uri": "https://localhost:8080/"
        },
        "id": "l3trviH-R5Cz",
        "outputId": "4ea4319f-85b7-4633-cb70-4429dea58619"
      },
      "execution_count": 2,
      "outputs": [
        {
          "output_type": "stream",
          "name": "stdout",
          "text": [
            "False\n"
          ]
        }
      ]
    },
    {
      "cell_type": "markdown",
      "source": [
        "### Python program to find the sum of all values in a dictionary\n",
        "### Filter the negative values from given dictionary\n",
        "### Test if all Values are Same in Dictionary"
      ],
      "metadata": {
        "id": "HpfXO7j7wVPk"
      }
    },
    {
      "cell_type": "code",
      "source": [
        "salaries = {'Belal' : 150000, 'Mohammad' : 250000, 'Khaled' : -1356}\n",
        "\n",
        "def sum(x) :\n",
        "  s = 0\n",
        "  for v in x.values():\n",
        "    s += v\n",
        "  return s\n",
        "\n",
        "print(sum(salaries))"
      ],
      "metadata": {
        "colab": {
          "base_uri": "https://localhost:8080/"
        },
        "id": "CGePPy0ewkCe",
        "outputId": "6e3cee5d-9bd0-4822-e279-9ca832a9180f"
      },
      "execution_count": 14,
      "outputs": [
        {
          "output_type": "stream",
          "name": "stdout",
          "text": [
            "398644\n"
          ]
        }
      ]
    },
    {
      "cell_type": "code",
      "source": [
        "salaries = {k:v for k, v in salaries.items() if (v > 0)}\n",
        "print(salaries)"
      ],
      "metadata": {
        "colab": {
          "base_uri": "https://localhost:8080/"
        },
        "id": "TL1OWP7J15l5",
        "outputId": "932f5cc0-6067-4718-f7ec-1b7a26119be9"
      },
      "execution_count": 18,
      "outputs": [
        {
          "output_type": "stream",
          "name": "stdout",
          "text": [
            "{'Belal': 150000, 'Mohammad': 250000}\n"
          ]
        }
      ]
    },
    {
      "cell_type": "markdown",
      "source": [
        "### Test if vlaue input  in dictionary value"
      ],
      "metadata": {
        "id": "m7yMn2i33JgM"
      }
    },
    {
      "cell_type": "code",
      "source": [
        "x = input()\n",
        "y = dict(salaries)\n",
        "print(x in y.keys())"
      ],
      "metadata": {
        "colab": {
          "base_uri": "https://localhost:8080/"
        },
        "id": "eFcZinbV3LVh",
        "outputId": "0f23e233-8562-46df-a28c-20e664c05c40"
      },
      "execution_count": 22,
      "outputs": [
        {
          "output_type": "stream",
          "name": "stdout",
          "text": [
            "limon\n",
            "False\n"
          ]
        }
      ]
    },
    {
      "cell_type": "code",
      "source": [],
      "metadata": {
        "id": "AqEyTkV6e5lD"
      },
      "execution_count": null,
      "outputs": []
    },
    {
      "cell_type": "markdown",
      "source": [
        "### Calculate the sum of all numbers from 0 to a given number"
      ],
      "metadata": {
        "id": "3fzCFWGIfBl2"
      }
    },
    {
      "cell_type": "code",
      "source": [
        "num = int(input())\n",
        "sum = 0\n",
        "for i in range(0, num + 1) :\n",
        "  sum += i\n",
        "\n",
        "print(sum)"
      ],
      "metadata": {
        "colab": {
          "base_uri": "https://localhost:8080/"
        },
        "id": "Mail_1AkfDm7",
        "outputId": "22562904-e49e-43f3-fffa-9ade5be67a15"
      },
      "execution_count": 23,
      "outputs": [
        {
          "output_type": "stream",
          "name": "stdout",
          "text": [
            "10\n",
            "55\n"
          ]
        }
      ]
    },
    {
      "cell_type": "markdown",
      "source": [
        "### Find the factorial of a given number using while loop"
      ],
      "metadata": {
        "id": "SE43jaq_fUWl"
      }
    },
    {
      "cell_type": "code",
      "source": [
        "num = int(input())\n",
        "factorial = 1\n",
        "for j in range(1, num + 1):\n",
        "  factorial *= j\n",
        "\n",
        "print(factorial)"
      ],
      "metadata": {
        "colab": {
          "base_uri": "https://localhost:8080/"
        },
        "id": "tQiTkOxlfWaj",
        "outputId": "f2463f12-d297-47e3-ff6a-c3c56564ddce"
      },
      "execution_count": 28,
      "outputs": [
        {
          "output_type": "stream",
          "name": "stdout",
          "text": [
            "5\n",
            "120\n"
          ]
        }
      ]
    },
    {
      "cell_type": "markdown",
      "source": [
        "### Use a loop to display elements from a given list present at odd index positions"
      ],
      "metadata": {
        "id": "BnuxG4I3f90Y"
      }
    },
    {
      "cell_type": "code",
      "source": [
        "my_list = [10, 20, 30, 40, 50, 60, 70, 80, 90, 100]\n",
        "for i in range(1, len(my_list)):\n",
        "  print(my_list[i] if i % 2 != 0 else ' ', end = ' ')"
      ],
      "metadata": {
        "colab": {
          "base_uri": "https://localhost:8080/"
        },
        "id": "5371qiMdgFwd",
        "outputId": "4cecc8e8-512e-45c0-cac0-d2b37ae7b6a5"
      },
      "execution_count": 32,
      "outputs": [
        {
          "output_type": "stream",
          "name": "stdout",
          "text": [
            "20   40   60   80   100 "
          ]
        }
      ]
    },
    {
      "cell_type": "code",
      "source": [],
      "metadata": {
        "id": "JzyI8zNmgP72"
      },
      "execution_count": null,
      "outputs": []
    },
    {
      "cell_type": "markdown",
      "source": [
        "### Calculate the cube of all numbers from 1 to a given number\n"
      ],
      "metadata": {
        "id": "2Ak81OUMgotK"
      }
    },
    {
      "cell_type": "code",
      "source": [
        "x = int(input())\n",
        "num = [i for i in range(x + 1)]\n",
        "cube = lambda x : x**3\n",
        "\n",
        "c = list(map(cube, num))\n",
        "\n",
        "print(c)"
      ],
      "metadata": {
        "colab": {
          "base_uri": "https://localhost:8080/"
        },
        "id": "7Jvqf646gpxB",
        "outputId": "feb61bc3-90a9-4af8-ae6a-d6ec513b18ea"
      },
      "execution_count": 40,
      "outputs": [
        {
          "output_type": "stream",
          "name": "stdout",
          "text": [
            "6\n",
            "[0, 1, 8, 27, 64, 125, 216]\n"
          ]
        }
      ]
    },
    {
      "cell_type": "markdown",
      "source": [
        "### program to count number of vowels using sets in given string\n"
      ],
      "metadata": {
        "id": "9lSq_wNridps"
      }
    },
    {
      "cell_type": "code",
      "source": [
        "vowels = ['a', 'e', 'u', 'i', 'o']\n",
        "statment = '''Vowels are letters that represent speech sounds where air leaves\n",
        " the mouth without any blockage by the tongue, lips, or throat. The vowels in\n",
        "  the alphabet are a, e, i, o, u, and sometimes y'''\n",
        "\n",
        "cnt = 0\n",
        "for letter in statment:\n",
        "  if letter in vowels:\n",
        "    cnt += 1\n",
        "\n",
        "print(cnt)"
      ],
      "metadata": {
        "colab": {
          "base_uri": "https://localhost:8080/"
        },
        "id": "eRDFpCA3ikc2",
        "outputId": "e961c39d-6cbf-455c-df0b-d99a1e52cf23"
      },
      "execution_count": 42,
      "outputs": [
        {
          "output_type": "stream",
          "name": "stdout",
          "text": [
            "59\n"
          ]
        }
      ]
    },
    {
      "cell_type": "markdown",
      "source": [
        "### Write a Python program to add an item to a tuple."
      ],
      "metadata": {
        "id": "04hFQZkmjXu5"
      }
    },
    {
      "cell_type": "code",
      "source": [
        "tu = (1, 2, 3, 4)\n",
        "li = list(tu)\n",
        "li.append(10)\n",
        "tu = tuple(li)\n",
        "print(tu)"
      ],
      "metadata": {
        "colab": {
          "base_uri": "https://localhost:8080/"
        },
        "id": "QX8LGOYNjapL",
        "outputId": "f52c29b5-aa69-4e15-eefc-8c1174e3ebea"
      },
      "execution_count": 43,
      "outputs": [
        {
          "output_type": "stream",
          "name": "stdout",
          "text": [
            "(1, 2, 3, 4, 10)\n"
          ]
        }
      ]
    },
    {
      "cell_type": "markdown",
      "source": [
        "### Write a Python program to multiply all the items in a list."
      ],
      "metadata": {
        "id": "kj40T5CkjmtR"
      }
    },
    {
      "cell_type": "code",
      "source": [
        "my_list = [10, 20, 30]\n",
        "\n",
        "mul = 1\n",
        "for z in my_list:\n",
        "  mul *= z\n",
        "\n",
        "print(mul)"
      ],
      "metadata": {
        "colab": {
          "base_uri": "https://localhost:8080/"
        },
        "id": "xQ6ENwaajobK",
        "outputId": "9c6cf794-9df7-4a03-93bb-7b10c54c5a6d"
      },
      "execution_count": 47,
      "outputs": [
        {
          "output_type": "stream",
          "name": "stdout",
          "text": [
            "6000\n"
          ]
        }
      ]
    },
    {
      "cell_type": "code",
      "source": [],
      "metadata": {
        "id": "waN9fB9tjxtd"
      },
      "execution_count": null,
      "outputs": []
    },
    {
      "cell_type": "markdown",
      "source": [
        "### Write a Python program to get the smallest number from a list."
      ],
      "metadata": {
        "id": "gc2EqiNBj8Yw"
      }
    },
    {
      "cell_type": "code",
      "source": [
        "li = [1, 5, -9, 8]\n",
        "smallest = li[0]\n",
        "for i in li:\n",
        "  if smallest > i:\n",
        "    smallest = i\n",
        "\n",
        "print(smallest)"
      ],
      "metadata": {
        "colab": {
          "base_uri": "https://localhost:8080/"
        },
        "id": "2AZmJoyJj-JM",
        "outputId": "3c5fc789-8798-4dd4-b32e-3f58758a660e"
      },
      "execution_count": 48,
      "outputs": [
        {
          "output_type": "stream",
          "name": "stdout",
          "text": [
            "-9\n"
          ]
        }
      ]
    },
    {
      "cell_type": "markdown",
      "source": [
        "### Write a Python program to get the largest number from a list."
      ],
      "metadata": {
        "id": "r4E2nXz6ObLR"
      }
    },
    {
      "cell_type": "code",
      "source": [
        "li = [1, 5, -9, 8]\n",
        "largest = li[0]\n",
        "for i in li:\n",
        "  if largest < i:\n",
        "    largest = i\n",
        "\n",
        "print(largest)"
      ],
      "metadata": {
        "colab": {
          "base_uri": "https://localhost:8080/"
        },
        "id": "Ph2PjUm6Oby_",
        "outputId": "90d486aa-a017-4e80-c126-feb2825ef6a7"
      },
      "execution_count": 2,
      "outputs": [
        {
          "output_type": "stream",
          "name": "stdout",
          "text": [
            "8\n"
          ]
        }
      ]
    },
    {
      "cell_type": "markdown",
      "source": [
        "### Write a Python program to clone or copy a list"
      ],
      "metadata": {
        "id": "oPi5ZyANOpc9"
      }
    },
    {
      "cell_type": "code",
      "source": [
        "la = li\n",
        "print(la)"
      ],
      "metadata": {
        "colab": {
          "base_uri": "https://localhost:8080/"
        },
        "id": "36qbkM4EOqQO",
        "outputId": "48e67da5-e4b7-460c-ab11-f309f8424d0d"
      },
      "execution_count": 3,
      "outputs": [
        {
          "output_type": "stream",
          "name": "stdout",
          "text": [
            "[1, 5, -9, 8]\n"
          ]
        }
      ]
    },
    {
      "cell_type": "markdown",
      "source": [
        "### Write a Python program to remove item(s) from a given set.\n"
      ],
      "metadata": {
        "id": "P8E2VwKwOxdm"
      }
    },
    {
      "cell_type": "code",
      "source": [
        "s = set([0, 1, 3, 4, 5])\n",
        "s.remove(3)\n",
        "print(s)"
      ],
      "metadata": {
        "colab": {
          "base_uri": "https://localhost:8080/"
        },
        "id": "gyNcI0rOOzk7",
        "outputId": "0af5d39e-346d-4b00-b2b7-c1e766b1bb70"
      },
      "execution_count": 10,
      "outputs": [
        {
          "output_type": "stream",
          "name": "stdout",
          "text": [
            "{0, 1, 4, 5}\n"
          ]
        }
      ]
    },
    {
      "cell_type": "markdown",
      "source": [
        "### Write a Python program to find the maximum and minimum values in a set."
      ],
      "metadata": {
        "id": "04IEd-brQfbi"
      }
    },
    {
      "cell_type": "code",
      "source": [
        "li = [1, 5, -9, 8]\n",
        "largest = smallest = li[0]\n",
        "for i in li:\n",
        "  if largest < i:\n",
        "    largest = i\n",
        "  if smallest > i:\n",
        "    smallest = i\n",
        "\n",
        "print(f\"largest : {largest}   smallest : {smallest}\")"
      ],
      "metadata": {
        "colab": {
          "base_uri": "https://localhost:8080/"
        },
        "id": "x_aN518dQliz",
        "outputId": "f6b51b84-72ec-4f4f-be4b-21132709a89b"
      },
      "execution_count": 11,
      "outputs": [
        {
          "output_type": "stream",
          "name": "stdout",
          "text": [
            "largest : 8   smallest : -9\n"
          ]
        }
      ]
    },
    {
      "cell_type": "markdown",
      "source": [
        "### Write a Python program to convert a tuple to a dictionary.\n"
      ],
      "metadata": {
        "id": "Yg9CjwrcQ5iM"
      }
    },
    {
      "cell_type": "code",
      "source": [
        "tuple1 = (\"name\", \"age\", \"city\",\"city\")\n",
        "dict1 = {tuple1[i] : i + 1 for i in range(len(tuple1))}\n",
        "print(dict1)"
      ],
      "metadata": {
        "colab": {
          "base_uri": "https://localhost:8080/"
        },
        "id": "A7ZcBHDiQ887",
        "outputId": "886dd64f-34b6-476e-aa5a-5aef71bdbe68"
      },
      "execution_count": 13,
      "outputs": [
        {
          "output_type": "stream",
          "name": "stdout",
          "text": [
            "{'name': 1, 'age': 2, 'city': 4}\n"
          ]
        }
      ]
    },
    {
      "cell_type": "markdown",
      "source": [
        "### Write a Python program to replace the last value of tuples in a list.\n"
      ],
      "metadata": {
        "id": "w9Z83OUZeZ6u"
      }
    },
    {
      "cell_type": "code",
      "source": [
        "li = [(10, 20, 40), (40, 50, 60), (70, 80, 90)]\n",
        "la = [(x, y, 100) for x, y, z in li]\n",
        "print(la)"
      ],
      "metadata": {
        "colab": {
          "base_uri": "https://localhost:8080/"
        },
        "id": "emMrT_Auecyd",
        "outputId": "3c450411-6f49-4e21-c8b7-7aba2968eb8f"
      },
      "execution_count": 19,
      "outputs": [
        {
          "output_type": "stream",
          "name": "stdout",
          "text": [
            "[(10, 20, 100), (40, 50, 100), (70, 80, 100)]\n"
          ]
        }
      ]
    }
  ]
}